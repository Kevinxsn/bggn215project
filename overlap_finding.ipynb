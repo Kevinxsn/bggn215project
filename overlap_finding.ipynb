{
 "cells": [
  {
   "cell_type": "code",
   "execution_count": 1,
   "metadata": {},
   "outputs": [
    {
     "data": {
      "text/plain": [
       "['Fcho2', 'Rxrb', 'Bicral', 'Virma']"
      ]
     },
     "execution_count": 1,
     "metadata": {},
     "output_type": "execute_result"
    }
   ],
   "source": [
    "list1_part1 = [\n",
    "    \"A330023F24Rik\", \"Abi2\", \"Acadm\", \"Aco1\", \"Actg1\", \"Adgrl4\", \"Akt3\", \"Ankfy1\", \"Apbb2\", \"Arhgap18\", \"Arhgdia\",\n",
    "    \"Arid1b\", \"Bcl6b\", \"Bicral\", \"Birc6\", \"Btf3\", \"Car8\", \"Ccdc47\", \"Ccnd3\", \"Cd34\", \"Cdc42bpb\", \"Cltc\", \"Cmtm6\",\n",
    "    \"Cmtm7\", \"Cmtm8\", \"Cpped1\", \"Ctdsp2\", \"Dbp\", \"Dctn2\", \"Ddx42\", \"Dhx35\", \"Dnaja1\", \"Dnajb4\", \"Dtx3\", \"Dync1li1\",\n",
    "    \"Dynll1\", \"Ebf1\", \"Fbxl7\", \"Fcho2\", \"Fgfr2\", \"Fgl2\", \"Flt1\", \"Fubp1\", \"Fus\", \"G2e3\", \"Gbp2\", \"Gcn1\", \"Gpr182\",\n",
    "    \"Grb10\", \"Gtf2b\", \"Hectd1\", \"Hgs\", \"Ifi203\", \"Ints8\", \"Irak2\", \"Iws1\", \"Kdm4a\", \"Ly6a\", \"Ly6c1\", \"Ly6e\", \"Mafg\",\n",
    "    \"Map3k2\", \"Mark3\", \"Mbd6\", \"Mbnl1\", \"Mcrip1\", \"Mecom\", \"Med13\", \"Mgll\", \"Minpp1\", \"Mndal\", \"Ncoa3\", \"Nfia\",\n",
    "    \"Nfib\", \"Nploc4\", \"Nubpl\", \"Nucb1\", \"Os9\", \"Osbpl10\", \"P4hb\", \"Pan3\", \"Papss2\", \"Parva\", \"Phc3\", \"Pkn2\"\n",
    "]\n",
    "list1_part2 = [\n",
    "    \"Pld2\", \"Plekhf2\", \"Ppp1cb\", \"Ppp1r13b\", \"Prkci\", \"R3hdm2\", \"Rabep1\", \"Ralgapb\", \"Reep3\", \"Rgcc\", \"Rnf167\",\n",
    "    \"Rpl18\", \"Rplp0\", \"Rps6kb1\", \"Rxrb\", \"Sap130\", \"Scfd1\", \"Skil\", \"Slc26a10\", \"Slco3a1\", \"Snx4\", \"Spast\", \"Spns2\",\n",
    "    \"St6galnac3\", \"Stat6\", \"Strn3\", \"Stt3b\", \"Tgm2\", \"Tie1\", \"Tnfaip2\", \"Tnpo1\", \"Trp53inp1\", \"Ttc27\", \"Ubr2\",\n",
    "    \"Unc119b\", \"Usp49\", \"Utrn\", \"Virma\", \"Wasl\", \"Zbtb18\", \"Zc3h7a\", \"Zdhhc21\", \"Zfp148\", \"Zfp646\", \"Zmynd8\",\n",
    "    \"Zranb1\", \"Zzef1\"\n",
    "]\n",
    "\n",
    "list2_part1 = [\n",
    "    \"2810021J22Rik\", \"3110082I17Rik\", \"3830408C21Rik\", \"4632427E13Rik\", \"4930414N06Rik\", \"5330438D12Rik\",\n",
    "    \"6720427I07Rik\", \"9030624G23Rik\", \"AI504432\", \"Abhd14a\", \"Abhd16a\", \"Ablim3\", \"Abr\", \"Acp2\", \"Acsl1\", \"Actr8\",\n",
    "    \"Adar\", \"Adck1\", \"Afg3l2\", \"Ago2\", \"Agpat3\", \"Aip\", \"Ak5\", \"Akap12\", \"Akt1\", \"Aldh18a1\", \"Alms1\", \"Ambra1\",\n",
    "    \"Ankrd17\", \"Ankrd45\", \"Aopep\", \"Ap4m1\", \"Arglu1\", \"Arhgef25\", \"Arxes1\", \"Arxes2\", \"Ascc2\", \"Atf6\", \"Atg7\",\n",
    "    \"Atp6v1c1\", \"Atp6v1d\", \"BC005624\", \"Bach2\", \"Bbx\", \"Bcl6\", \"Becn1\", \"Bex2\", \"Bex3\", \"Bhlhb9\", \"Bicra\", \"Bicral\",\n",
    "    \"Blcap\", \"Blm\", \"Brd8\", \"Brms1\", \"Btaf1\", \"Btbd7\", \"Btbd9\", \"Btrc\", \"C230038L03Rik\", \"Cacnb2\", \"Caprin1\",\n",
    "    \"Casp3\", \"Cbll1\", \"Ccdc136\", \"Ccdc66\", \"Ccdc90b\", \"Ccm2\", \"Ccnd2\", \"Ccnj\", \"Cdc23\", \"Cdc42ep3\", \"Cep85\",\n",
    "    \"Chchd3\", \"Chd6\", \"Chn1\", \"Chrac1\", \"Chrnb2\", \"Ckap5\", \"Clcn5\", \"Cnih2\", \"Cnpy3\", \"Cog5\", \"Cog6\", \"Cops6\",\n",
    "    \"Cox18\", \"Cpd\", \"Cpeb3\", \"Csnk1a1\", \"Csnk2b\", \"Cstf3\", \"Ctsf\", \"Cul1\", \"Cul7\", \"D430019H16Rik\", \"D430041D05Rik\",\n",
    "    \"Dbi\", \"Dcaf6\", \"Dclk2\", \"Ddah2\", \"Ddx1\", \"Ddx56\", \"Dgkz\", \"Dhx30\", \"Dhx32\", \"Dimt1\", \"Dlst\", \"Dnajc24\",\n",
    "    \"Dnajc25\", \"Dpm3\", \"Dtymk\", \"Dusp12\", \"Dusp4\", \"Ecpas\", \"Edrf1\", \"Eef1e1\", \"Efna4\", \"Egr1\", \"Eif1ad\", \"Eif2b2\",\n",
    "    \"Eif3d\", \"Eif3m\", \"Elof1\", \"Emc8\", \"Emg1\", \"Epb41l5\", \"Esr1\", \"Etaa1\", \"Etf1\", \"Etv6\", \"Exoc6b\", \"Ezh1\", \"Ezh2\",\n",
    "    \"Fam168a\", \"Fank1\", \"Fbxo3\", \"Fbxw4\", \"Fcho2\", \"Fgd3\", \"Fkbp15\", \"Fkbp4\", \"Fxn\", \"Gab2\", \"Gabbr1\", \"Gas5\",\n",
    "    \"Glod4\", \"Gls\", \"Gm12258\", \"Gm12296\", \"Gm14827\", \"Gm15594\", \"Gm21781\", \"Gm26944\", \"Gm3364\", \"Gm42439\",\n",
    "    \"Gm43507\", \"Gm47167\", \"Gm4924\", \"Gm49678\", \"Gnal\", \"Gng10\", \"Golga5\", \"Gosr1\", \"Gpam\", \"Gpbp1\", \"Gpr161\",\n",
    "    \"Gprasp2\", \"Grina\", \"Grpel2\", \"Gucy1a1\", \"Gucy1b1\", \"Hbp1\", \"Hdac11\", \"Hdgfl2\", \"Hif1a\", \"Hltf\", \"Hmgxb3\",\n",
    "    \"Hnrnpa3\", \"Hps4\", \"Hspa9\", \"Id4\", \"Igf2r\", \"Igfbp2\", \"Immp1l\", \"Insr\", \"Invs\", \"Iqsec1\", \"Irf2\", \"Itfg2\", \"Jun\",\n",
    "    \"Kansl1l\", \"Katna1\", \"Kcnc1\", \"Kcnip1\", \"Kcnip2\", \"Kcnn3\", \"Kcp\", \"Kdm7a\", \"Kif21a\", \"Kif2a\", \"Kif3b\",\n",
    "    \"Klhdc3\", \"L3mbtl3\", \"Lancl1\", \"Leo1\", \"Leprotl1\", \"Lin7c\", \"Lpin1\", \"Map2\", \"Map2k4\", \"Map4\", \"Mapk1\",\n",
    "    \"Mapk1ip1l\", \"Mast2\", \"Mbd5\", \"Mcm7\", \"Mdh2\", \"Mea1\", \"Mgat1\", \"Micu3\", \"Mier3\", \"Mios\", \"Mkrn1\", \"Mpc1\"\n",
    "]\n",
    "\n",
    "list2_part2 = [\n",
    "    \"Mpc2\", \"Mpzl1\", \"Mrpl43\", \"Mtmr3\", \"Mycn\", \"Mydgf\", \"Myo1b\", \"N4bp2l1\", \"N4bp2l2\", \"Nab1\", \"Nacad\", \"Nbas\",\n",
    "    \"Nbr1\", \"Ndufaf6\", \"Ngrn\", \"Nhlrc3\", \"Nme6\", \"Nol10\", \"Nol4l\", \"Nop53\", \"Nop58\", \"Nphp3\", \"Nr3c1\", \"Nr4a1\",\n",
    "    \"Nr6a1\", \"Nrbp2\", \"Nsrp1\", \"Ntmt1\", \"Nudcd3\", \"Nup210\", \"Nup214\", \"Nyap1\", \"Odc1\", \"Oga\", \"Ogdh\", \"Ogfrl1\",\n",
    "    \"Osbp2\", \"Pabpn1\", \"Papss1\", \"Paqr8\", \"Pard3\", \"Pard3b\", \"Pbx3\", \"Pced1b\", \"Pcf11\", \"Pdia4\", \"Pdia6\", \"Pds5b\",\n",
    "    \"Phf3\", \"Phlpp1\", \"Pigk\", \"Plcg1\", \"Plxna4\", \"Pofut1\", \"Pou2f1\", \"Ppil4\", \"Ppm1f\", \"Ppp1ca\", \"Ppp1r11\",\n",
    "    \"Ppp1r14c\", \"Ppp2r5e\", \"Prdx1\", \"Prelid3a\", \"Prkar2b\", \"Proser1\", \"Prrc2a\", \"Psd3\", \"Ptk2\", \"Ptpdc1\", \"Ptpn4\",\n",
    "    \"Ptprz1\", \"Puf60\", \"Purb\", \"Pwp2\", \"Rab18\", \"Rad54l2\", \"Ralgps1\", \"Rbm28\", \"Rbm34\", \"Rbm4\", \"Rc3h1\", \"Rce1\",\n",
    "    \"Rcor1\", \"Rhno1\", \"Rims1\", \"Rnf144a\", \"Rnf149\", \"Robo2\", \"Rpl37a\", \"Rpl7l1\", \"Rpp30\", \"Rps6ka2\", \"Rps6kl1\",\n",
    "    \"Rrp36\", \"Rundc1\", \"Rxrb\", \"Sc5d\", \"Scrib\", \"Sdhaf3\", \"Sec61g\", \"Sec63\", \"Selenok\", \"Selenow\", \"Sema6b\",\n",
    "    \"Sergef\", \"Sf3b2\", \"Sh3bgrl3\", \"Shisal1\", \"Slc22a17\", \"Slc24a3\", \"Slc2a13\", \"Slc35b3\", \"Slc38a1\", \"Slc7a8\",\n",
    "    \"Slf2\", \"Slx4ip\", \"Smarca5\", \"Smarcc1\", \"Smarcc2\", \"Smc6\", \"Smim13\", \"Smo\", \"Snhg11\", \"Snrnp48\", \"Sobp\",\n",
    "    \"Sorbs1\", \"Sox2\", \"Sp3os\", \"Sptbn2\", \"Srrd\", \"Srrm3\", \"Srrt\", \"St6galnac5\", \"Stag1\", \"Stambpl1\", \"Stk19\",\n",
    "    \"Stk25\", \"Stk3\", \"Sult4a1\", \"Sun1\", \"Tab2\", \"Tafa5\", \"Tanc2\", \"Tasor\", \"Tbc1d8\", \"Tceal8\", \"Tcp11l1\", \"Thap4\",\n",
    "    \"Timm22\", \"Tiprl\", \"Tkt\", \"Tle1\", \"Tmem120a\", \"Tmem14c\", \"Tmem200a\", \"Tmem229b\", \"Tmod2\", \"Tmod3\", \"Tnks\",\n",
    "    \"Tnks2\", \"Tnrc6b\", \"Top1\", \"Top3b\", \"Tor1a\", \"Tor1aip1\", \"Tor1b\", \"Trappc10\", \"Trio\", \"Trrap\", \"Tspan31\",\n",
    "    \"Tspan9\", \"Tulp3\", \"Ube2f\", \"Ufm1\", \"Ugcg\", \"Umad1\", \"Unc79\", \"Unc80\", \"Upf1\", \"Usp20\", \"Usp34\", \"Usp42\",\n",
    "    \"Vat1l\", \"Vgll4\", \"Virma\", \"Vps13b\", \"Vps53\", \"Vti1a\", \"Wdhd1\", \"Wdr17\", \"Wdr7\", \"Wdr82\", \"Wnk2\", \"Zbtb37\",\n",
    "    \"Zdhhc14\", \"Zdhhc6\", \"Zfand3\", \"Zfp282\", \"Zfp408\", \"Zfp57\", \"Zfp653\", \"Zfp799\", \"Zfp811\", \"Zfp938\", \"Zkscan6\",\n",
    "    \"Zmiz2\", \"Zscan21\"\n",
    "]\n",
    " \n",
    " # Combine the lists\n",
    "list1 = list1_part1 + list1_part2\n",
    "list2 = list2_part1 + list2_part2\n",
    "\n",
    "# Find the overlap\n",
    "overlap = set(list1) & set(list2)\n",
    "overlap_list = list(overlap)\n",
    "overlap_list"
   ]
  },
  {
   "cell_type": "code",
   "execution_count": null,
   "metadata": {},
   "outputs": [],
   "source": []
  }
 ],
 "metadata": {
  "kernelspec": {
   "display_name": "dsc80",
   "language": "python",
   "name": "python3"
  },
  "language_info": {
   "codemirror_mode": {
    "name": "ipython",
    "version": 3
   },
   "file_extension": ".py",
   "mimetype": "text/x-python",
   "name": "python",
   "nbconvert_exporter": "python",
   "pygments_lexer": "ipython3",
   "version": "3.8.19"
  }
 },
 "nbformat": 4,
 "nbformat_minor": 2
}
